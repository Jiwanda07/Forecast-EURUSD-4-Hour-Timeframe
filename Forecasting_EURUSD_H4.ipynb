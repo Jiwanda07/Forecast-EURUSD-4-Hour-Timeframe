{
  "cells": [
    {
      "cell_type": "code",
      "execution_count": 1,
      "metadata": {
        "id": "GNSR_Qokse9w"
      },
      "outputs": [],
      "source": [
        "import numpy as np\n",
        "import pandas as pd\n",
        "import matplotlib.pyplot as plt"
      ]
    },
    {
      "cell_type": "code",
      "source": [
        "pip install pandas-ta"
      ],
      "metadata": {
        "colab": {
          "base_uri": "https://localhost:8080/"
        },
        "id": "aOD0voSj1C4I",
        "outputId": "5552f9c3-0f60-4880-f3d5-f1b43132e1f3"
      },
      "execution_count": 2,
      "outputs": [
        {
          "output_type": "stream",
          "name": "stdout",
          "text": [
            "Looking in indexes: https://pypi.org/simple, https://us-python.pkg.dev/colab-wheels/public/simple/\n",
            "Collecting pandas-ta\n",
            "  Downloading pandas_ta-0.3.14b.tar.gz (115 kB)\n",
            "\u001b[?25l     \u001b[90m━━━━━━━━━━━━━━━━━━━━━━━━━━━━━━━━━━━━━━━━\u001b[0m \u001b[32m0.0/115.1 KB\u001b[0m \u001b[31m?\u001b[0m eta \u001b[36m-:--:--\u001b[0m\r\u001b[2K     \u001b[90m━━━━━━━━━━━━━━━━━━━━━━━━━━━━━━━━━━━━━━\u001b[0m \u001b[32m115.1/115.1 KB\u001b[0m \u001b[31m10.9 MB/s\u001b[0m eta \u001b[36m0:00:00\u001b[0m\n",
            "\u001b[?25h  Preparing metadata (setup.py) ... \u001b[?25l\u001b[?25hdone\n",
            "Requirement already satisfied: pandas in /usr/local/lib/python3.8/dist-packages (from pandas-ta) (1.3.5)\n",
            "Requirement already satisfied: pytz>=2017.3 in /usr/local/lib/python3.8/dist-packages (from pandas->pandas-ta) (2022.7.1)\n",
            "Requirement already satisfied: python-dateutil>=2.7.3 in /usr/local/lib/python3.8/dist-packages (from pandas->pandas-ta) (2.8.2)\n",
            "Requirement already satisfied: numpy>=1.17.3 in /usr/local/lib/python3.8/dist-packages (from pandas->pandas-ta) (1.21.6)\n",
            "Requirement already satisfied: six>=1.5 in /usr/local/lib/python3.8/dist-packages (from python-dateutil>=2.7.3->pandas->pandas-ta) (1.15.0)\n",
            "Building wheels for collected packages: pandas-ta\n",
            "  Building wheel for pandas-ta (setup.py) ... \u001b[?25l\u001b[?25hdone\n",
            "  Created wheel for pandas-ta: filename=pandas_ta-0.3.14b0-py3-none-any.whl size=218923 sha256=3b1ff53de0c65dcea04c0001eedd7d58690e2a434c623df342869e9d84641305\n",
            "  Stored in directory: /root/.cache/pip/wheels/54/4a/75/06b8e63fce6f6d2c1baae5c208edb18eca128407b0c96e1153\n",
            "Successfully built pandas-ta\n",
            "Installing collected packages: pandas-ta\n",
            "Successfully installed pandas-ta-0.3.14b0\n"
          ]
        }
      ]
    },
    {
      "cell_type": "code",
      "source": [
        "import pandas_ta as ta"
      ],
      "metadata": {
        "id": "KH6176Hs1IYt"
      },
      "execution_count": 3,
      "outputs": []
    },
    {
      "cell_type": "code",
      "execution_count": 65,
      "metadata": {
        "colab": {
          "base_uri": "https://localhost:8080/",
          "height": 424
        },
        "id": "6fMlBrqFso8i",
        "outputId": "4b215524-8b06-4161-f7e1-5d5aa868a5a6"
      },
      "outputs": [
        {
          "output_type": "execute_result",
          "data": {
            "text/plain": [
              "                datetime    close\n",
              "0    2019-01-02 05:00:00  1.14526\n",
              "1    2019-01-02 09:00:00  1.14784\n",
              "2    2019-01-02 13:00:00  1.14338\n",
              "3    2019-01-02 17:00:00  1.13720\n",
              "4    2019-01-02 21:00:00  1.13356\n",
              "...                  ...      ...\n",
              "6360 2023-02-01 05:00:00  1.08572\n",
              "6361 2023-02-01 09:00:00  1.08717\n",
              "6362 2023-02-01 13:00:00  1.08739\n",
              "6363 2023-02-01 17:00:00  1.08572\n",
              "6364 2023-02-01 21:00:00  1.08717\n",
              "\n",
              "[6365 rows x 2 columns]"
            ],
            "text/html": [
              "\n",
              "  <div id=\"df-a7123b49-9f07-4110-b58f-9a8bdb3a3ea4\">\n",
              "    <div class=\"colab-df-container\">\n",
              "      <div>\n",
              "<style scoped>\n",
              "    .dataframe tbody tr th:only-of-type {\n",
              "        vertical-align: middle;\n",
              "    }\n",
              "\n",
              "    .dataframe tbody tr th {\n",
              "        vertical-align: top;\n",
              "    }\n",
              "\n",
              "    .dataframe thead th {\n",
              "        text-align: right;\n",
              "    }\n",
              "</style>\n",
              "<table border=\"1\" class=\"dataframe\">\n",
              "  <thead>\n",
              "    <tr style=\"text-align: right;\">\n",
              "      <th></th>\n",
              "      <th>datetime</th>\n",
              "      <th>close</th>\n",
              "    </tr>\n",
              "  </thead>\n",
              "  <tbody>\n",
              "    <tr>\n",
              "      <th>0</th>\n",
              "      <td>2019-01-02 05:00:00</td>\n",
              "      <td>1.14526</td>\n",
              "    </tr>\n",
              "    <tr>\n",
              "      <th>1</th>\n",
              "      <td>2019-01-02 09:00:00</td>\n",
              "      <td>1.14784</td>\n",
              "    </tr>\n",
              "    <tr>\n",
              "      <th>2</th>\n",
              "      <td>2019-01-02 13:00:00</td>\n",
              "      <td>1.14338</td>\n",
              "    </tr>\n",
              "    <tr>\n",
              "      <th>3</th>\n",
              "      <td>2019-01-02 17:00:00</td>\n",
              "      <td>1.13720</td>\n",
              "    </tr>\n",
              "    <tr>\n",
              "      <th>4</th>\n",
              "      <td>2019-01-02 21:00:00</td>\n",
              "      <td>1.13356</td>\n",
              "    </tr>\n",
              "    <tr>\n",
              "      <th>...</th>\n",
              "      <td>...</td>\n",
              "      <td>...</td>\n",
              "    </tr>\n",
              "    <tr>\n",
              "      <th>6360</th>\n",
              "      <td>2023-02-01 05:00:00</td>\n",
              "      <td>1.08572</td>\n",
              "    </tr>\n",
              "    <tr>\n",
              "      <th>6361</th>\n",
              "      <td>2023-02-01 09:00:00</td>\n",
              "      <td>1.08717</td>\n",
              "    </tr>\n",
              "    <tr>\n",
              "      <th>6362</th>\n",
              "      <td>2023-02-01 13:00:00</td>\n",
              "      <td>1.08739</td>\n",
              "    </tr>\n",
              "    <tr>\n",
              "      <th>6363</th>\n",
              "      <td>2023-02-01 17:00:00</td>\n",
              "      <td>1.08572</td>\n",
              "    </tr>\n",
              "    <tr>\n",
              "      <th>6364</th>\n",
              "      <td>2023-02-01 21:00:00</td>\n",
              "      <td>1.08717</td>\n",
              "    </tr>\n",
              "  </tbody>\n",
              "</table>\n",
              "<p>6365 rows × 2 columns</p>\n",
              "</div>\n",
              "      <button class=\"colab-df-convert\" onclick=\"convertToInteractive('df-a7123b49-9f07-4110-b58f-9a8bdb3a3ea4')\"\n",
              "              title=\"Convert this dataframe to an interactive table.\"\n",
              "              style=\"display:none;\">\n",
              "        \n",
              "  <svg xmlns=\"http://www.w3.org/2000/svg\" height=\"24px\"viewBox=\"0 0 24 24\"\n",
              "       width=\"24px\">\n",
              "    <path d=\"M0 0h24v24H0V0z\" fill=\"none\"/>\n",
              "    <path d=\"M18.56 5.44l.94 2.06.94-2.06 2.06-.94-2.06-.94-.94-2.06-.94 2.06-2.06.94zm-11 1L8.5 8.5l.94-2.06 2.06-.94-2.06-.94L8.5 2.5l-.94 2.06-2.06.94zm10 10l.94 2.06.94-2.06 2.06-.94-2.06-.94-.94-2.06-.94 2.06-2.06.94z\"/><path d=\"M17.41 7.96l-1.37-1.37c-.4-.4-.92-.59-1.43-.59-.52 0-1.04.2-1.43.59L10.3 9.45l-7.72 7.72c-.78.78-.78 2.05 0 2.83L4 21.41c.39.39.9.59 1.41.59.51 0 1.02-.2 1.41-.59l7.78-7.78 2.81-2.81c.8-.78.8-2.07 0-2.86zM5.41 20L4 18.59l7.72-7.72 1.47 1.35L5.41 20z\"/>\n",
              "  </svg>\n",
              "      </button>\n",
              "      \n",
              "  <style>\n",
              "    .colab-df-container {\n",
              "      display:flex;\n",
              "      flex-wrap:wrap;\n",
              "      gap: 12px;\n",
              "    }\n",
              "\n",
              "    .colab-df-convert {\n",
              "      background-color: #E8F0FE;\n",
              "      border: none;\n",
              "      border-radius: 50%;\n",
              "      cursor: pointer;\n",
              "      display: none;\n",
              "      fill: #1967D2;\n",
              "      height: 32px;\n",
              "      padding: 0 0 0 0;\n",
              "      width: 32px;\n",
              "    }\n",
              "\n",
              "    .colab-df-convert:hover {\n",
              "      background-color: #E2EBFA;\n",
              "      box-shadow: 0px 1px 2px rgba(60, 64, 67, 0.3), 0px 1px 3px 1px rgba(60, 64, 67, 0.15);\n",
              "      fill: #174EA6;\n",
              "    }\n",
              "\n",
              "    [theme=dark] .colab-df-convert {\n",
              "      background-color: #3B4455;\n",
              "      fill: #D2E3FC;\n",
              "    }\n",
              "\n",
              "    [theme=dark] .colab-df-convert:hover {\n",
              "      background-color: #434B5C;\n",
              "      box-shadow: 0px 1px 3px 1px rgba(0, 0, 0, 0.15);\n",
              "      filter: drop-shadow(0px 1px 2px rgba(0, 0, 0, 0.3));\n",
              "      fill: #FFFFFF;\n",
              "    }\n",
              "  </style>\n",
              "\n",
              "      <script>\n",
              "        const buttonEl =\n",
              "          document.querySelector('#df-a7123b49-9f07-4110-b58f-9a8bdb3a3ea4 button.colab-df-convert');\n",
              "        buttonEl.style.display =\n",
              "          google.colab.kernel.accessAllowed ? 'block' : 'none';\n",
              "\n",
              "        async function convertToInteractive(key) {\n",
              "          const element = document.querySelector('#df-a7123b49-9f07-4110-b58f-9a8bdb3a3ea4');\n",
              "          const dataTable =\n",
              "            await google.colab.kernel.invokeFunction('convertToInteractive',\n",
              "                                                     [key], {});\n",
              "          if (!dataTable) return;\n",
              "\n",
              "          const docLinkHtml = 'Like what you see? Visit the ' +\n",
              "            '<a target=\"_blank\" href=https://colab.research.google.com/notebooks/data_table.ipynb>data table notebook</a>'\n",
              "            + ' to learn more about interactive tables.';\n",
              "          element.innerHTML = '';\n",
              "          dataTable['output_type'] = 'display_data';\n",
              "          await google.colab.output.renderOutput(dataTable, element);\n",
              "          const docLink = document.createElement('div');\n",
              "          docLink.innerHTML = docLinkHtml;\n",
              "          element.appendChild(docLink);\n",
              "        }\n",
              "      </script>\n",
              "    </div>\n",
              "  </div>\n",
              "  "
            ]
          },
          "metadata": {},
          "execution_count": 65
        }
      ],
      "source": [
        "eurusd_h4 = pd.read_excel('/content/Data EURUSD 4H.xlsx')\n",
        "eurusd_h4"
      ]
    },
    {
      "cell_type": "code",
      "execution_count": 66,
      "metadata": {
        "colab": {
          "base_uri": "https://localhost:8080/"
        },
        "id": "z-9F5hm-s6t9",
        "outputId": "09e195f0-a203-4510-dec3-c84b2b571563"
      },
      "outputs": [
        {
          "output_type": "stream",
          "name": "stdout",
          "text": [
            "<class 'pandas.core.frame.DataFrame'>\n",
            "RangeIndex: 6365 entries, 0 to 6364\n",
            "Data columns (total 2 columns):\n",
            " #   Column    Non-Null Count  Dtype         \n",
            "---  ------    --------------  -----         \n",
            " 0   datetime  6365 non-null   datetime64[ns]\n",
            " 1   close     6365 non-null   float64       \n",
            "dtypes: datetime64[ns](1), float64(1)\n",
            "memory usage: 99.6 KB\n"
          ]
        }
      ],
      "source": [
        "eurusd_h4.info()"
      ]
    },
    {
      "cell_type": "code",
      "execution_count": 67,
      "metadata": {
        "colab": {
          "base_uri": "https://localhost:8080/",
          "height": 455
        },
        "id": "iFqX_T0LtMbZ",
        "outputId": "7ee5a906-09a1-4f02-988b-aed102995f89"
      },
      "outputs": [
        {
          "output_type": "execute_result",
          "data": {
            "text/plain": [
              "                       close\n",
              "datetime                    \n",
              "2019-01-02 05:00:00  1.14526\n",
              "2019-01-02 09:00:00  1.14784\n",
              "2019-01-02 13:00:00  1.14338\n",
              "2019-01-02 17:00:00  1.13720\n",
              "2019-01-02 21:00:00  1.13356\n",
              "...                      ...\n",
              "2023-02-01 05:00:00  1.08572\n",
              "2023-02-01 09:00:00  1.08717\n",
              "2023-02-01 13:00:00  1.08739\n",
              "2023-02-01 17:00:00  1.08572\n",
              "2023-02-01 21:00:00  1.08717\n",
              "\n",
              "[6365 rows x 1 columns]"
            ],
            "text/html": [
              "\n",
              "  <div id=\"df-e905cdbc-d873-4754-bfd0-859f8ca3f2d7\">\n",
              "    <div class=\"colab-df-container\">\n",
              "      <div>\n",
              "<style scoped>\n",
              "    .dataframe tbody tr th:only-of-type {\n",
              "        vertical-align: middle;\n",
              "    }\n",
              "\n",
              "    .dataframe tbody tr th {\n",
              "        vertical-align: top;\n",
              "    }\n",
              "\n",
              "    .dataframe thead th {\n",
              "        text-align: right;\n",
              "    }\n",
              "</style>\n",
              "<table border=\"1\" class=\"dataframe\">\n",
              "  <thead>\n",
              "    <tr style=\"text-align: right;\">\n",
              "      <th></th>\n",
              "      <th>close</th>\n",
              "    </tr>\n",
              "    <tr>\n",
              "      <th>datetime</th>\n",
              "      <th></th>\n",
              "    </tr>\n",
              "  </thead>\n",
              "  <tbody>\n",
              "    <tr>\n",
              "      <th>2019-01-02 05:00:00</th>\n",
              "      <td>1.14526</td>\n",
              "    </tr>\n",
              "    <tr>\n",
              "      <th>2019-01-02 09:00:00</th>\n",
              "      <td>1.14784</td>\n",
              "    </tr>\n",
              "    <tr>\n",
              "      <th>2019-01-02 13:00:00</th>\n",
              "      <td>1.14338</td>\n",
              "    </tr>\n",
              "    <tr>\n",
              "      <th>2019-01-02 17:00:00</th>\n",
              "      <td>1.13720</td>\n",
              "    </tr>\n",
              "    <tr>\n",
              "      <th>2019-01-02 21:00:00</th>\n",
              "      <td>1.13356</td>\n",
              "    </tr>\n",
              "    <tr>\n",
              "      <th>...</th>\n",
              "      <td>...</td>\n",
              "    </tr>\n",
              "    <tr>\n",
              "      <th>2023-02-01 05:00:00</th>\n",
              "      <td>1.08572</td>\n",
              "    </tr>\n",
              "    <tr>\n",
              "      <th>2023-02-01 09:00:00</th>\n",
              "      <td>1.08717</td>\n",
              "    </tr>\n",
              "    <tr>\n",
              "      <th>2023-02-01 13:00:00</th>\n",
              "      <td>1.08739</td>\n",
              "    </tr>\n",
              "    <tr>\n",
              "      <th>2023-02-01 17:00:00</th>\n",
              "      <td>1.08572</td>\n",
              "    </tr>\n",
              "    <tr>\n",
              "      <th>2023-02-01 21:00:00</th>\n",
              "      <td>1.08717</td>\n",
              "    </tr>\n",
              "  </tbody>\n",
              "</table>\n",
              "<p>6365 rows × 1 columns</p>\n",
              "</div>\n",
              "      <button class=\"colab-df-convert\" onclick=\"convertToInteractive('df-e905cdbc-d873-4754-bfd0-859f8ca3f2d7')\"\n",
              "              title=\"Convert this dataframe to an interactive table.\"\n",
              "              style=\"display:none;\">\n",
              "        \n",
              "  <svg xmlns=\"http://www.w3.org/2000/svg\" height=\"24px\"viewBox=\"0 0 24 24\"\n",
              "       width=\"24px\">\n",
              "    <path d=\"M0 0h24v24H0V0z\" fill=\"none\"/>\n",
              "    <path d=\"M18.56 5.44l.94 2.06.94-2.06 2.06-.94-2.06-.94-.94-2.06-.94 2.06-2.06.94zm-11 1L8.5 8.5l.94-2.06 2.06-.94-2.06-.94L8.5 2.5l-.94 2.06-2.06.94zm10 10l.94 2.06.94-2.06 2.06-.94-2.06-.94-.94-2.06-.94 2.06-2.06.94z\"/><path d=\"M17.41 7.96l-1.37-1.37c-.4-.4-.92-.59-1.43-.59-.52 0-1.04.2-1.43.59L10.3 9.45l-7.72 7.72c-.78.78-.78 2.05 0 2.83L4 21.41c.39.39.9.59 1.41.59.51 0 1.02-.2 1.41-.59l7.78-7.78 2.81-2.81c.8-.78.8-2.07 0-2.86zM5.41 20L4 18.59l7.72-7.72 1.47 1.35L5.41 20z\"/>\n",
              "  </svg>\n",
              "      </button>\n",
              "      \n",
              "  <style>\n",
              "    .colab-df-container {\n",
              "      display:flex;\n",
              "      flex-wrap:wrap;\n",
              "      gap: 12px;\n",
              "    }\n",
              "\n",
              "    .colab-df-convert {\n",
              "      background-color: #E8F0FE;\n",
              "      border: none;\n",
              "      border-radius: 50%;\n",
              "      cursor: pointer;\n",
              "      display: none;\n",
              "      fill: #1967D2;\n",
              "      height: 32px;\n",
              "      padding: 0 0 0 0;\n",
              "      width: 32px;\n",
              "    }\n",
              "\n",
              "    .colab-df-convert:hover {\n",
              "      background-color: #E2EBFA;\n",
              "      box-shadow: 0px 1px 2px rgba(60, 64, 67, 0.3), 0px 1px 3px 1px rgba(60, 64, 67, 0.15);\n",
              "      fill: #174EA6;\n",
              "    }\n",
              "\n",
              "    [theme=dark] .colab-df-convert {\n",
              "      background-color: #3B4455;\n",
              "      fill: #D2E3FC;\n",
              "    }\n",
              "\n",
              "    [theme=dark] .colab-df-convert:hover {\n",
              "      background-color: #434B5C;\n",
              "      box-shadow: 0px 1px 3px 1px rgba(0, 0, 0, 0.15);\n",
              "      filter: drop-shadow(0px 1px 2px rgba(0, 0, 0, 0.3));\n",
              "      fill: #FFFFFF;\n",
              "    }\n",
              "  </style>\n",
              "\n",
              "      <script>\n",
              "        const buttonEl =\n",
              "          document.querySelector('#df-e905cdbc-d873-4754-bfd0-859f8ca3f2d7 button.colab-df-convert');\n",
              "        buttonEl.style.display =\n",
              "          google.colab.kernel.accessAllowed ? 'block' : 'none';\n",
              "\n",
              "        async function convertToInteractive(key) {\n",
              "          const element = document.querySelector('#df-e905cdbc-d873-4754-bfd0-859f8ca3f2d7');\n",
              "          const dataTable =\n",
              "            await google.colab.kernel.invokeFunction('convertToInteractive',\n",
              "                                                     [key], {});\n",
              "          if (!dataTable) return;\n",
              "\n",
              "          const docLinkHtml = 'Like what you see? Visit the ' +\n",
              "            '<a target=\"_blank\" href=https://colab.research.google.com/notebooks/data_table.ipynb>data table notebook</a>'\n",
              "            + ' to learn more about interactive tables.';\n",
              "          element.innerHTML = '';\n",
              "          dataTable['output_type'] = 'display_data';\n",
              "          await google.colab.output.renderOutput(dataTable, element);\n",
              "          const docLink = document.createElement('div');\n",
              "          docLink.innerHTML = docLinkHtml;\n",
              "          element.appendChild(docLink);\n",
              "        }\n",
              "      </script>\n",
              "    </div>\n",
              "  </div>\n",
              "  "
            ]
          },
          "metadata": {},
          "execution_count": 67
        }
      ],
      "source": [
        "eurusd_h4.set_index('datetime', inplace=True)\n",
        "eurusd_h4"
      ]
    },
    {
      "cell_type": "code",
      "source": [
        "# Adding indicator\n",
        "\n",
        "#eurusd_h4['RSI 14'] = ta.rsi(eurusd_h4.close, length=14)\n",
        "eurusd_h4['EMA 20'] = ta.ema(eurusd_h4.close, length=20)\n",
        "eurusd_h4['EMA 50'] = ta.ema(eurusd_h4.close, length=50)\n",
        "eurusd_h4['EMA 100'] = ta.ema(eurusd_h4.close, length=100)\n",
        "eurusd_h4['EMA 200'] = ta.ema(eurusd_h4.close, length=200)\n",
        "\n",
        "eurusd_h4"
      ],
      "metadata": {
        "id": "mSYkhOLTbIhK",
        "colab": {
          "base_uri": "https://localhost:8080/",
          "height": 455
        },
        "outputId": "f4dbb6de-a68c-4233-c879-db7e80ae3f4a"
      },
      "execution_count": 68,
      "outputs": [
        {
          "output_type": "execute_result",
          "data": {
            "text/plain": [
              "                       close    EMA 20    EMA 50   EMA 100   EMA 200\n",
              "datetime                                                            \n",
              "2019-01-02 05:00:00  1.14526       NaN       NaN       NaN       NaN\n",
              "2019-01-02 09:00:00  1.14784       NaN       NaN       NaN       NaN\n",
              "2019-01-02 13:00:00  1.14338       NaN       NaN       NaN       NaN\n",
              "2019-01-02 17:00:00  1.13720       NaN       NaN       NaN       NaN\n",
              "2019-01-02 21:00:00  1.13356       NaN       NaN       NaN       NaN\n",
              "...                      ...       ...       ...       ...       ...\n",
              "2023-02-01 05:00:00  1.08572  1.086433  1.085832  1.081821  1.072249\n",
              "2023-02-01 09:00:00  1.08717  1.086503  1.085885  1.081927  1.072397\n",
              "2023-02-01 13:00:00  1.08739  1.086587  1.085944  1.082035  1.072546\n",
              "2023-02-01 17:00:00  1.08572  1.086505  1.085935  1.082108  1.072677\n",
              "2023-02-01 21:00:00  1.08717  1.086568  1.085983  1.082209  1.072822\n",
              "\n",
              "[6365 rows x 5 columns]"
            ],
            "text/html": [
              "\n",
              "  <div id=\"df-ac0ee6a4-8e91-4d53-a457-a3575033b048\">\n",
              "    <div class=\"colab-df-container\">\n",
              "      <div>\n",
              "<style scoped>\n",
              "    .dataframe tbody tr th:only-of-type {\n",
              "        vertical-align: middle;\n",
              "    }\n",
              "\n",
              "    .dataframe tbody tr th {\n",
              "        vertical-align: top;\n",
              "    }\n",
              "\n",
              "    .dataframe thead th {\n",
              "        text-align: right;\n",
              "    }\n",
              "</style>\n",
              "<table border=\"1\" class=\"dataframe\">\n",
              "  <thead>\n",
              "    <tr style=\"text-align: right;\">\n",
              "      <th></th>\n",
              "      <th>close</th>\n",
              "      <th>EMA 20</th>\n",
              "      <th>EMA 50</th>\n",
              "      <th>EMA 100</th>\n",
              "      <th>EMA 200</th>\n",
              "    </tr>\n",
              "    <tr>\n",
              "      <th>datetime</th>\n",
              "      <th></th>\n",
              "      <th></th>\n",
              "      <th></th>\n",
              "      <th></th>\n",
              "      <th></th>\n",
              "    </tr>\n",
              "  </thead>\n",
              "  <tbody>\n",
              "    <tr>\n",
              "      <th>2019-01-02 05:00:00</th>\n",
              "      <td>1.14526</td>\n",
              "      <td>NaN</td>\n",
              "      <td>NaN</td>\n",
              "      <td>NaN</td>\n",
              "      <td>NaN</td>\n",
              "    </tr>\n",
              "    <tr>\n",
              "      <th>2019-01-02 09:00:00</th>\n",
              "      <td>1.14784</td>\n",
              "      <td>NaN</td>\n",
              "      <td>NaN</td>\n",
              "      <td>NaN</td>\n",
              "      <td>NaN</td>\n",
              "    </tr>\n",
              "    <tr>\n",
              "      <th>2019-01-02 13:00:00</th>\n",
              "      <td>1.14338</td>\n",
              "      <td>NaN</td>\n",
              "      <td>NaN</td>\n",
              "      <td>NaN</td>\n",
              "      <td>NaN</td>\n",
              "    </tr>\n",
              "    <tr>\n",
              "      <th>2019-01-02 17:00:00</th>\n",
              "      <td>1.13720</td>\n",
              "      <td>NaN</td>\n",
              "      <td>NaN</td>\n",
              "      <td>NaN</td>\n",
              "      <td>NaN</td>\n",
              "    </tr>\n",
              "    <tr>\n",
              "      <th>2019-01-02 21:00:00</th>\n",
              "      <td>1.13356</td>\n",
              "      <td>NaN</td>\n",
              "      <td>NaN</td>\n",
              "      <td>NaN</td>\n",
              "      <td>NaN</td>\n",
              "    </tr>\n",
              "    <tr>\n",
              "      <th>...</th>\n",
              "      <td>...</td>\n",
              "      <td>...</td>\n",
              "      <td>...</td>\n",
              "      <td>...</td>\n",
              "      <td>...</td>\n",
              "    </tr>\n",
              "    <tr>\n",
              "      <th>2023-02-01 05:00:00</th>\n",
              "      <td>1.08572</td>\n",
              "      <td>1.086433</td>\n",
              "      <td>1.085832</td>\n",
              "      <td>1.081821</td>\n",
              "      <td>1.072249</td>\n",
              "    </tr>\n",
              "    <tr>\n",
              "      <th>2023-02-01 09:00:00</th>\n",
              "      <td>1.08717</td>\n",
              "      <td>1.086503</td>\n",
              "      <td>1.085885</td>\n",
              "      <td>1.081927</td>\n",
              "      <td>1.072397</td>\n",
              "    </tr>\n",
              "    <tr>\n",
              "      <th>2023-02-01 13:00:00</th>\n",
              "      <td>1.08739</td>\n",
              "      <td>1.086587</td>\n",
              "      <td>1.085944</td>\n",
              "      <td>1.082035</td>\n",
              "      <td>1.072546</td>\n",
              "    </tr>\n",
              "    <tr>\n",
              "      <th>2023-02-01 17:00:00</th>\n",
              "      <td>1.08572</td>\n",
              "      <td>1.086505</td>\n",
              "      <td>1.085935</td>\n",
              "      <td>1.082108</td>\n",
              "      <td>1.072677</td>\n",
              "    </tr>\n",
              "    <tr>\n",
              "      <th>2023-02-01 21:00:00</th>\n",
              "      <td>1.08717</td>\n",
              "      <td>1.086568</td>\n",
              "      <td>1.085983</td>\n",
              "      <td>1.082209</td>\n",
              "      <td>1.072822</td>\n",
              "    </tr>\n",
              "  </tbody>\n",
              "</table>\n",
              "<p>6365 rows × 5 columns</p>\n",
              "</div>\n",
              "      <button class=\"colab-df-convert\" onclick=\"convertToInteractive('df-ac0ee6a4-8e91-4d53-a457-a3575033b048')\"\n",
              "              title=\"Convert this dataframe to an interactive table.\"\n",
              "              style=\"display:none;\">\n",
              "        \n",
              "  <svg xmlns=\"http://www.w3.org/2000/svg\" height=\"24px\"viewBox=\"0 0 24 24\"\n",
              "       width=\"24px\">\n",
              "    <path d=\"M0 0h24v24H0V0z\" fill=\"none\"/>\n",
              "    <path d=\"M18.56 5.44l.94 2.06.94-2.06 2.06-.94-2.06-.94-.94-2.06-.94 2.06-2.06.94zm-11 1L8.5 8.5l.94-2.06 2.06-.94-2.06-.94L8.5 2.5l-.94 2.06-2.06.94zm10 10l.94 2.06.94-2.06 2.06-.94-2.06-.94-.94-2.06-.94 2.06-2.06.94z\"/><path d=\"M17.41 7.96l-1.37-1.37c-.4-.4-.92-.59-1.43-.59-.52 0-1.04.2-1.43.59L10.3 9.45l-7.72 7.72c-.78.78-.78 2.05 0 2.83L4 21.41c.39.39.9.59 1.41.59.51 0 1.02-.2 1.41-.59l7.78-7.78 2.81-2.81c.8-.78.8-2.07 0-2.86zM5.41 20L4 18.59l7.72-7.72 1.47 1.35L5.41 20z\"/>\n",
              "  </svg>\n",
              "      </button>\n",
              "      \n",
              "  <style>\n",
              "    .colab-df-container {\n",
              "      display:flex;\n",
              "      flex-wrap:wrap;\n",
              "      gap: 12px;\n",
              "    }\n",
              "\n",
              "    .colab-df-convert {\n",
              "      background-color: #E8F0FE;\n",
              "      border: none;\n",
              "      border-radius: 50%;\n",
              "      cursor: pointer;\n",
              "      display: none;\n",
              "      fill: #1967D2;\n",
              "      height: 32px;\n",
              "      padding: 0 0 0 0;\n",
              "      width: 32px;\n",
              "    }\n",
              "\n",
              "    .colab-df-convert:hover {\n",
              "      background-color: #E2EBFA;\n",
              "      box-shadow: 0px 1px 2px rgba(60, 64, 67, 0.3), 0px 1px 3px 1px rgba(60, 64, 67, 0.15);\n",
              "      fill: #174EA6;\n",
              "    }\n",
              "\n",
              "    [theme=dark] .colab-df-convert {\n",
              "      background-color: #3B4455;\n",
              "      fill: #D2E3FC;\n",
              "    }\n",
              "\n",
              "    [theme=dark] .colab-df-convert:hover {\n",
              "      background-color: #434B5C;\n",
              "      box-shadow: 0px 1px 3px 1px rgba(0, 0, 0, 0.15);\n",
              "      filter: drop-shadow(0px 1px 2px rgba(0, 0, 0, 0.3));\n",
              "      fill: #FFFFFF;\n",
              "    }\n",
              "  </style>\n",
              "\n",
              "      <script>\n",
              "        const buttonEl =\n",
              "          document.querySelector('#df-ac0ee6a4-8e91-4d53-a457-a3575033b048 button.colab-df-convert');\n",
              "        buttonEl.style.display =\n",
              "          google.colab.kernel.accessAllowed ? 'block' : 'none';\n",
              "\n",
              "        async function convertToInteractive(key) {\n",
              "          const element = document.querySelector('#df-ac0ee6a4-8e91-4d53-a457-a3575033b048');\n",
              "          const dataTable =\n",
              "            await google.colab.kernel.invokeFunction('convertToInteractive',\n",
              "                                                     [key], {});\n",
              "          if (!dataTable) return;\n",
              "\n",
              "          const docLinkHtml = 'Like what you see? Visit the ' +\n",
              "            '<a target=\"_blank\" href=https://colab.research.google.com/notebooks/data_table.ipynb>data table notebook</a>'\n",
              "            + ' to learn more about interactive tables.';\n",
              "          element.innerHTML = '';\n",
              "          dataTable['output_type'] = 'display_data';\n",
              "          await google.colab.output.renderOutput(dataTable, element);\n",
              "          const docLink = document.createElement('div');\n",
              "          docLink.innerHTML = docLinkHtml;\n",
              "          element.appendChild(docLink);\n",
              "        }\n",
              "      </script>\n",
              "    </div>\n",
              "  </div>\n",
              "  "
            ]
          },
          "metadata": {},
          "execution_count": 68
        }
      ]
    },
    {
      "cell_type": "code",
      "source": [
        "eurusd_h4.isnull().sum()"
      ],
      "metadata": {
        "colab": {
          "base_uri": "https://localhost:8080/"
        },
        "id": "8aoBl3mXbVbq",
        "outputId": "ac23a6f6-02d8-4589-cb8b-e72ed9f780cd"
      },
      "execution_count": 69,
      "outputs": [
        {
          "output_type": "execute_result",
          "data": {
            "text/plain": [
              "close        0\n",
              "EMA 20      19\n",
              "EMA 50      49\n",
              "EMA 100     99\n",
              "EMA 200    199\n",
              "dtype: int64"
            ]
          },
          "metadata": {},
          "execution_count": 69
        }
      ]
    },
    {
      "cell_type": "code",
      "execution_count": 70,
      "metadata": {
        "colab": {
          "base_uri": "https://localhost:8080/",
          "height": 455
        },
        "id": "kuQ3zjYGta-t",
        "outputId": "fce17f30-0242-476c-8396-48400a6d6e48"
      },
      "outputs": [
        {
          "output_type": "execute_result",
          "data": {
            "text/plain": [
              "                       close    EMA 20    EMA 50   EMA 100   EMA 200\n",
              "datetime                                                            \n",
              "2019-02-18 09:00:00  1.13084  1.129355  1.131920  1.135233  1.139592\n",
              "2019-02-18 13:00:00  1.13156  1.129565  1.131905  1.135161  1.139512\n",
              "2019-02-18 17:00:00  1.13220  1.129816  1.131917  1.135102  1.139439\n",
              "2019-02-18 21:00:00  1.13110  1.129938  1.131885  1.135023  1.139356\n",
              "2019-02-19 01:00:00  1.13106  1.130045  1.131853  1.134944  1.139274\n",
              "...                      ...       ...       ...       ...       ...\n",
              "2023-02-01 05:00:00  1.08572  1.086433  1.085832  1.081821  1.072249\n",
              "2023-02-01 09:00:00  1.08717  1.086503  1.085885  1.081927  1.072397\n",
              "2023-02-01 13:00:00  1.08739  1.086587  1.085944  1.082035  1.072546\n",
              "2023-02-01 17:00:00  1.08572  1.086505  1.085935  1.082108  1.072677\n",
              "2023-02-01 21:00:00  1.08717  1.086568  1.085983  1.082209  1.072822\n",
              "\n",
              "[6166 rows x 5 columns]"
            ],
            "text/html": [
              "\n",
              "  <div id=\"df-ab66aaef-2f48-4b99-af3d-dcc700870992\">\n",
              "    <div class=\"colab-df-container\">\n",
              "      <div>\n",
              "<style scoped>\n",
              "    .dataframe tbody tr th:only-of-type {\n",
              "        vertical-align: middle;\n",
              "    }\n",
              "\n",
              "    .dataframe tbody tr th {\n",
              "        vertical-align: top;\n",
              "    }\n",
              "\n",
              "    .dataframe thead th {\n",
              "        text-align: right;\n",
              "    }\n",
              "</style>\n",
              "<table border=\"1\" class=\"dataframe\">\n",
              "  <thead>\n",
              "    <tr style=\"text-align: right;\">\n",
              "      <th></th>\n",
              "      <th>close</th>\n",
              "      <th>EMA 20</th>\n",
              "      <th>EMA 50</th>\n",
              "      <th>EMA 100</th>\n",
              "      <th>EMA 200</th>\n",
              "    </tr>\n",
              "    <tr>\n",
              "      <th>datetime</th>\n",
              "      <th></th>\n",
              "      <th></th>\n",
              "      <th></th>\n",
              "      <th></th>\n",
              "      <th></th>\n",
              "    </tr>\n",
              "  </thead>\n",
              "  <tbody>\n",
              "    <tr>\n",
              "      <th>2019-02-18 09:00:00</th>\n",
              "      <td>1.13084</td>\n",
              "      <td>1.129355</td>\n",
              "      <td>1.131920</td>\n",
              "      <td>1.135233</td>\n",
              "      <td>1.139592</td>\n",
              "    </tr>\n",
              "    <tr>\n",
              "      <th>2019-02-18 13:00:00</th>\n",
              "      <td>1.13156</td>\n",
              "      <td>1.129565</td>\n",
              "      <td>1.131905</td>\n",
              "      <td>1.135161</td>\n",
              "      <td>1.139512</td>\n",
              "    </tr>\n",
              "    <tr>\n",
              "      <th>2019-02-18 17:00:00</th>\n",
              "      <td>1.13220</td>\n",
              "      <td>1.129816</td>\n",
              "      <td>1.131917</td>\n",
              "      <td>1.135102</td>\n",
              "      <td>1.139439</td>\n",
              "    </tr>\n",
              "    <tr>\n",
              "      <th>2019-02-18 21:00:00</th>\n",
              "      <td>1.13110</td>\n",
              "      <td>1.129938</td>\n",
              "      <td>1.131885</td>\n",
              "      <td>1.135023</td>\n",
              "      <td>1.139356</td>\n",
              "    </tr>\n",
              "    <tr>\n",
              "      <th>2019-02-19 01:00:00</th>\n",
              "      <td>1.13106</td>\n",
              "      <td>1.130045</td>\n",
              "      <td>1.131853</td>\n",
              "      <td>1.134944</td>\n",
              "      <td>1.139274</td>\n",
              "    </tr>\n",
              "    <tr>\n",
              "      <th>...</th>\n",
              "      <td>...</td>\n",
              "      <td>...</td>\n",
              "      <td>...</td>\n",
              "      <td>...</td>\n",
              "      <td>...</td>\n",
              "    </tr>\n",
              "    <tr>\n",
              "      <th>2023-02-01 05:00:00</th>\n",
              "      <td>1.08572</td>\n",
              "      <td>1.086433</td>\n",
              "      <td>1.085832</td>\n",
              "      <td>1.081821</td>\n",
              "      <td>1.072249</td>\n",
              "    </tr>\n",
              "    <tr>\n",
              "      <th>2023-02-01 09:00:00</th>\n",
              "      <td>1.08717</td>\n",
              "      <td>1.086503</td>\n",
              "      <td>1.085885</td>\n",
              "      <td>1.081927</td>\n",
              "      <td>1.072397</td>\n",
              "    </tr>\n",
              "    <tr>\n",
              "      <th>2023-02-01 13:00:00</th>\n",
              "      <td>1.08739</td>\n",
              "      <td>1.086587</td>\n",
              "      <td>1.085944</td>\n",
              "      <td>1.082035</td>\n",
              "      <td>1.072546</td>\n",
              "    </tr>\n",
              "    <tr>\n",
              "      <th>2023-02-01 17:00:00</th>\n",
              "      <td>1.08572</td>\n",
              "      <td>1.086505</td>\n",
              "      <td>1.085935</td>\n",
              "      <td>1.082108</td>\n",
              "      <td>1.072677</td>\n",
              "    </tr>\n",
              "    <tr>\n",
              "      <th>2023-02-01 21:00:00</th>\n",
              "      <td>1.08717</td>\n",
              "      <td>1.086568</td>\n",
              "      <td>1.085983</td>\n",
              "      <td>1.082209</td>\n",
              "      <td>1.072822</td>\n",
              "    </tr>\n",
              "  </tbody>\n",
              "</table>\n",
              "<p>6166 rows × 5 columns</p>\n",
              "</div>\n",
              "      <button class=\"colab-df-convert\" onclick=\"convertToInteractive('df-ab66aaef-2f48-4b99-af3d-dcc700870992')\"\n",
              "              title=\"Convert this dataframe to an interactive table.\"\n",
              "              style=\"display:none;\">\n",
              "        \n",
              "  <svg xmlns=\"http://www.w3.org/2000/svg\" height=\"24px\"viewBox=\"0 0 24 24\"\n",
              "       width=\"24px\">\n",
              "    <path d=\"M0 0h24v24H0V0z\" fill=\"none\"/>\n",
              "    <path d=\"M18.56 5.44l.94 2.06.94-2.06 2.06-.94-2.06-.94-.94-2.06-.94 2.06-2.06.94zm-11 1L8.5 8.5l.94-2.06 2.06-.94-2.06-.94L8.5 2.5l-.94 2.06-2.06.94zm10 10l.94 2.06.94-2.06 2.06-.94-2.06-.94-.94-2.06-.94 2.06-2.06.94z\"/><path d=\"M17.41 7.96l-1.37-1.37c-.4-.4-.92-.59-1.43-.59-.52 0-1.04.2-1.43.59L10.3 9.45l-7.72 7.72c-.78.78-.78 2.05 0 2.83L4 21.41c.39.39.9.59 1.41.59.51 0 1.02-.2 1.41-.59l7.78-7.78 2.81-2.81c.8-.78.8-2.07 0-2.86zM5.41 20L4 18.59l7.72-7.72 1.47 1.35L5.41 20z\"/>\n",
              "  </svg>\n",
              "      </button>\n",
              "      \n",
              "  <style>\n",
              "    .colab-df-container {\n",
              "      display:flex;\n",
              "      flex-wrap:wrap;\n",
              "      gap: 12px;\n",
              "    }\n",
              "\n",
              "    .colab-df-convert {\n",
              "      background-color: #E8F0FE;\n",
              "      border: none;\n",
              "      border-radius: 50%;\n",
              "      cursor: pointer;\n",
              "      display: none;\n",
              "      fill: #1967D2;\n",
              "      height: 32px;\n",
              "      padding: 0 0 0 0;\n",
              "      width: 32px;\n",
              "    }\n",
              "\n",
              "    .colab-df-convert:hover {\n",
              "      background-color: #E2EBFA;\n",
              "      box-shadow: 0px 1px 2px rgba(60, 64, 67, 0.3), 0px 1px 3px 1px rgba(60, 64, 67, 0.15);\n",
              "      fill: #174EA6;\n",
              "    }\n",
              "\n",
              "    [theme=dark] .colab-df-convert {\n",
              "      background-color: #3B4455;\n",
              "      fill: #D2E3FC;\n",
              "    }\n",
              "\n",
              "    [theme=dark] .colab-df-convert:hover {\n",
              "      background-color: #434B5C;\n",
              "      box-shadow: 0px 1px 3px 1px rgba(0, 0, 0, 0.15);\n",
              "      filter: drop-shadow(0px 1px 2px rgba(0, 0, 0, 0.3));\n",
              "      fill: #FFFFFF;\n",
              "    }\n",
              "  </style>\n",
              "\n",
              "      <script>\n",
              "        const buttonEl =\n",
              "          document.querySelector('#df-ab66aaef-2f48-4b99-af3d-dcc700870992 button.colab-df-convert');\n",
              "        buttonEl.style.display =\n",
              "          google.colab.kernel.accessAllowed ? 'block' : 'none';\n",
              "\n",
              "        async function convertToInteractive(key) {\n",
              "          const element = document.querySelector('#df-ab66aaef-2f48-4b99-af3d-dcc700870992');\n",
              "          const dataTable =\n",
              "            await google.colab.kernel.invokeFunction('convertToInteractive',\n",
              "                                                     [key], {});\n",
              "          if (!dataTable) return;\n",
              "\n",
              "          const docLinkHtml = 'Like what you see? Visit the ' +\n",
              "            '<a target=\"_blank\" href=https://colab.research.google.com/notebooks/data_table.ipynb>data table notebook</a>'\n",
              "            + ' to learn more about interactive tables.';\n",
              "          element.innerHTML = '';\n",
              "          dataTable['output_type'] = 'display_data';\n",
              "          await google.colab.output.renderOutput(dataTable, element);\n",
              "          const docLink = document.createElement('div');\n",
              "          docLink.innerHTML = docLinkHtml;\n",
              "          element.appendChild(docLink);\n",
              "        }\n",
              "      </script>\n",
              "    </div>\n",
              "  </div>\n",
              "  "
            ]
          },
          "metadata": {},
          "execution_count": 70
        }
      ],
      "source": [
        "# Handling missing value\n",
        "\n",
        "eurusd_h4.dropna(inplace=True)\n",
        "eurusd_h4"
      ]
    },
    {
      "cell_type": "code",
      "source": [
        "eurusd_h4.isnull().sum()"
      ],
      "metadata": {
        "colab": {
          "base_uri": "https://localhost:8080/"
        },
        "id": "TcU-s-I71uEc",
        "outputId": "75592635-f35d-4f2d-c44a-4243828f4707"
      },
      "execution_count": 71,
      "outputs": [
        {
          "output_type": "execute_result",
          "data": {
            "text/plain": [
              "close      0\n",
              "EMA 20     0\n",
              "EMA 50     0\n",
              "EMA 100    0\n",
              "EMA 200    0\n",
              "dtype: int64"
            ]
          },
          "metadata": {},
          "execution_count": 71
        }
      ]
    },
    {
      "cell_type": "code",
      "execution_count": 72,
      "metadata": {
        "id": "Zz8xG7oUteuA",
        "colab": {
          "base_uri": "https://localhost:8080/"
        },
        "outputId": "5ef8148f-8fa8-4b4d-d95c-e662cc9204eb"
      },
      "outputs": [
        {
          "output_type": "execute_result",
          "data": {
            "text/plain": [
              "array([[1.13084   , 1.12935499, 1.13191954, 1.13523342, 1.1395921 ],\n",
              "       [1.13156   , 1.12956499, 1.13190545, 1.13516068, 1.13951218],\n",
              "       [1.1322    , 1.12981594, 1.131917  , 1.13510205, 1.13943942],\n",
              "       ...,\n",
              "       [1.07502   , 1.06303417, 1.0620629 , 1.06026688, 1.05180598],\n",
              "       [1.07338   , 1.06401949, 1.0625067 , 1.06052654, 1.05202065],\n",
              "       [1.07364   , 1.06493572, 1.0629433 , 1.06078622, 1.05223576]])"
            ]
          },
          "metadata": {},
          "execution_count": 72
        }
      ],
      "source": [
        "# Membagi data train dan test\n",
        "\n",
        "training_set = eurusd_h4.iloc[:6066].values\n",
        "training_set"
      ]
    },
    {
      "cell_type": "code",
      "execution_count": 73,
      "metadata": {
        "colab": {
          "base_uri": "https://localhost:8080/"
        },
        "id": "MDMaWAYOtnUJ",
        "outputId": "6ecfa8b3-03a7-49a7-e46b-acda0605dde3"
      },
      "outputs": [
        {
          "output_type": "execute_result",
          "data": {
            "text/plain": [
              "(6066, 5)"
            ]
          },
          "metadata": {},
          "execution_count": 73
        }
      ],
      "source": [
        "training_set.shape"
      ]
    },
    {
      "cell_type": "code",
      "source": [
        "test_set = eurusd_h4.iloc[6066:].values\n",
        "test_set"
      ],
      "metadata": {
        "colab": {
          "base_uri": "https://localhost:8080/"
        },
        "id": "sgqqQXx9JEhq",
        "outputId": "119f485c-393a-4225-8140-a79f877e4782"
      },
      "execution_count": 74,
      "outputs": [
        {
          "output_type": "execute_result",
          "data": {
            "text/plain": [
              "array([[1.07428   , 1.06582566, 1.06338788, 1.06105342, 1.05245511],\n",
              "       [1.07461   , 1.06666226, 1.06382796, 1.06132187, 1.05267556],\n",
              "       [1.07216   , 1.06718585, 1.06415471, 1.06153648, 1.05286943],\n",
              "       [1.07335   , 1.06777292, 1.06451531, 1.06177041, 1.05307322],\n",
              "       [1.07342   , 1.06831073, 1.06486451, 1.0620011 , 1.05327567],\n",
              "       [1.0731    , 1.06876685, 1.06518747, 1.06222088, 1.05347293],\n",
              "       [1.07476   , 1.06933763, 1.06556287, 1.06246918, 1.05368474],\n",
              "       [1.07416   , 1.0697969 , 1.06590001, 1.06270068, 1.05388848],\n",
              "       [1.07498   , 1.07029053, 1.06625609, 1.06294383, 1.05409834],\n",
              "       [1.07468   , 1.07070858, 1.06658644, 1.06317623, 1.05430313],\n",
              "       [1.07579   , 1.07119252, 1.06694736, 1.06342601, 1.05451693],\n",
              "       [1.07667   , 1.07171419, 1.06732864, 1.06368827, 1.05473736],\n",
              "       [1.07628   , 1.07214903, 1.06767967, 1.06393761, 1.05495172],\n",
              "       [1.07654   , 1.07256721, 1.06802714, 1.06418716, 1.05516653],\n",
              "       [1.08292   , 1.07355319, 1.06861117, 1.06455811, 1.05544268],\n",
              "       [1.08488   , 1.07463194, 1.06924917, 1.06496052, 1.05573559],\n",
              "       [1.08514   , 1.0756327 , 1.06987234, 1.06536012, 1.05602817],\n",
              "       [1.0856    , 1.07658197, 1.07048911, 1.06576091, 1.05632242],\n",
              "       [1.08372   , 1.07726178, 1.07100797, 1.06611653, 1.05659503],\n",
              "       [1.08425   , 1.07792733, 1.07152726, 1.06647561, 1.0568702 ],\n",
              "       [1.07938   , 1.07806568, 1.07183521, 1.06673114, 1.05709418],\n",
              "       [1.0828    , 1.07851657, 1.0722652 , 1.06704934, 1.05734996],\n",
              "       [1.08324   , 1.07896642, 1.07269559, 1.06736995, 1.05760757],\n",
              "       [1.0868    , 1.07971247, 1.0732487 , 1.0677547 , 1.05789805],\n",
              "       [1.08608   , 1.0803189 , 1.07375189, 1.06811758, 1.05817846],\n",
              "       [1.08212   , 1.08049044, 1.07408005, 1.06839485, 1.05841669],\n",
              "       [1.08158   , 1.0805942 , 1.07437417, 1.06865594, 1.05864717],\n",
              "       [1.08138   , 1.08066904, 1.07464891, 1.06890791, 1.05887337],\n",
              "       [1.08237   , 1.08083104, 1.07495169, 1.06917448, 1.05910716],\n",
              "       [1.08174   , 1.08091761, 1.0752179 , 1.0694233 , 1.05933236],\n",
              "       [1.0831    , 1.08112545, 1.075527  , 1.06969413, 1.05956886],\n",
              "       [1.08175   , 1.08118493, 1.07577104, 1.06993286, 1.05978957],\n",
              "       [1.08426   , 1.0814778 , 1.07610394, 1.07021657, 1.06003305],\n",
              "       [1.07822   , 1.08116753, 1.07618693, 1.07037505, 1.06021402],\n",
              "       [1.0788    , 1.08094205, 1.0762894 , 1.07054188, 1.06039895],\n",
              "       [1.07964   , 1.08081805, 1.07642079, 1.07072204, 1.06059041],\n",
              "       [1.07798   , 1.08054776, 1.07648194, 1.07086576, 1.06076344],\n",
              "       [1.087     , 1.08116226, 1.07689441, 1.07118525, 1.0610245 ],\n",
              "       [1.08584   , 1.08160776, 1.07724522, 1.07147545, 1.06127142],\n",
              "       [1.0796    , 1.08141654, 1.07733756, 1.07163633, 1.06145379],\n",
              "       [1.07946   , 1.0812302 , 1.0774208 , 1.07179125, 1.06163296],\n",
              "       [1.07878   , 1.08099685, 1.0774741 , 1.07192964, 1.06180358],\n",
              "       [1.07917   , 1.08082286, 1.07754061, 1.07207302, 1.06197638],\n",
              "       [1.08248   , 1.08098069, 1.07773431, 1.0722791 , 1.06218039],\n",
              "       [1.08098   , 1.08098062, 1.07786159, 1.07245139, 1.06236745],\n",
              "       [1.08164   , 1.08104342, 1.07800976, 1.07263334, 1.06255922],\n",
              "       [1.08312   , 1.08124119, 1.07821016, 1.072841  , 1.0627638 ],\n",
              "       [1.08364   , 1.08146965, 1.0784231 , 1.07305484, 1.06297153],\n",
              "       [1.08352   , 1.08166492, 1.07862298, 1.07326207, 1.06317599],\n",
              "       [1.0831    , 1.08180159, 1.07879855, 1.07345688, 1.06337424],\n",
              "       [1.08066   , 1.08169287, 1.07887154, 1.07359952, 1.06354624],\n",
              "       [1.08439   , 1.08194974, 1.07908795, 1.07381319, 1.06375364],\n",
              "       [1.08555   , 1.08229262, 1.07934137, 1.0740456 , 1.06397052],\n",
              "       [1.08948   , 1.08297713, 1.07973896, 1.07435124, 1.06422434],\n",
              "       [1.08923   , 1.08357264, 1.08011116, 1.07464586, 1.06447315],\n",
              "       [1.09118   , 1.08429715, 1.08054523, 1.07497327, 1.06473889],\n",
              "       [1.0859    , 1.08444981, 1.08075522, 1.07518964, 1.06494945],\n",
              "       [1.08626   , 1.08462221, 1.0809711 , 1.07540886, 1.0651615 ],\n",
              "       [1.08718   , 1.08486581, 1.08121458, 1.07564195, 1.06538059],\n",
              "       [1.0881    , 1.08517382, 1.0814846 , 1.07588864, 1.06560665],\n",
              "       [1.08782   , 1.08542584, 1.08173305, 1.07612491, 1.06582768],\n",
              "       [1.0861    , 1.08549005, 1.0819043 , 1.07632244, 1.06602939],\n",
              "       [1.0866    , 1.08559576, 1.08208844, 1.07652595, 1.06623408],\n",
              "       [1.08835   , 1.08585807, 1.082334  , 1.07676009, 1.06645414],\n",
              "       [1.08882   , 1.08614015, 1.08258835, 1.0769989 , 1.06667668],\n",
              "       [1.08932   , 1.086443  , 1.08285233, 1.07724288, 1.06690199],\n",
              "       [1.08976   , 1.0867589 , 1.08312322, 1.07749075, 1.06712943],\n",
              "       [1.08814   , 1.08689043, 1.08331996, 1.07770162, 1.06733849],\n",
              "       [1.08722   , 1.08692182, 1.0834729 , 1.07789011, 1.06753632],\n",
              "       [1.08992   , 1.08720736, 1.08372573, 1.07812832, 1.06775904],\n",
              "       [1.09152   , 1.08761809, 1.08403139, 1.0783935 , 1.06799547],\n",
              "       [1.09192   , 1.0880278 , 1.08434075, 1.07866136, 1.06823352],\n",
              "       [1.09188   , 1.08839467, 1.0846364 , 1.07892311, 1.06846881],\n",
              "       [1.08958   , 1.08850756, 1.08483027, 1.07913414, 1.06867887],\n",
              "       [1.09026   , 1.08867446, 1.0850432 , 1.07935445, 1.06889361],\n",
              "       [1.08648   , 1.08846546, 1.08509954, 1.07949555, 1.0690686 ],\n",
              "       [1.08912   , 1.0885278 , 1.08525721, 1.07968614, 1.06926812],\n",
              "       [1.08896   , 1.08856896, 1.08540242, 1.07986978, 1.06946406],\n",
              "       [1.08738   , 1.08845573, 1.08547997, 1.08001849, 1.06964232],\n",
              "       [1.08838   , 1.08844852, 1.0855937 , 1.08018407, 1.06982877],\n",
              "       [1.08622   , 1.08823628, 1.08561826, 1.08030359, 1.06999186],\n",
              "       [1.08666   , 1.08808615, 1.08565911, 1.08042946, 1.07015772],\n",
              "       [1.08679   , 1.08796271, 1.08570346, 1.08055541, 1.07032321],\n",
              "       [1.08736   , 1.08790531, 1.08576842, 1.08069016, 1.07049273],\n",
              "       [1.08692   , 1.08781147, 1.08581358, 1.08081352, 1.07065619],\n",
              "       [1.0902    , 1.08803895, 1.0859856 , 1.08099939, 1.07085065],\n",
              "       [1.08862   , 1.08809429, 1.08608891, 1.08115029, 1.07102746],\n",
              "       [1.08578   , 1.08787388, 1.08607679, 1.08124197, 1.07117425],\n",
              "       [1.08517   , 1.08761637, 1.08604123, 1.08131975, 1.07131352],\n",
              "       [1.08578   , 1.08744148, 1.08603099, 1.08140808, 1.07145746],\n",
              "       [1.08348   , 1.08706419, 1.08593095, 1.0814491 , 1.07157709],\n",
              "       [1.08299   , 1.08667617, 1.08581562, 1.08147962, 1.07169065],\n",
              "       [1.0851    , 1.08652606, 1.08578755, 1.08155131, 1.07182408],\n",
              "       [1.08654   , 1.08652739, 1.08581706, 1.08165009, 1.0719705 ],\n",
              "       [1.08632   , 1.08650764, 1.08583679, 1.08174257, 1.07211328],\n",
              "       [1.08572   , 1.08643262, 1.08583221, 1.08182133, 1.07224867],\n",
              "       [1.08717   , 1.08650285, 1.08588467, 1.08192724, 1.07239715],\n",
              "       [1.08739   , 1.08658734, 1.0859437 , 1.08203542, 1.07254633],\n",
              "       [1.08572   , 1.08650474, 1.08593493, 1.08210838, 1.07267741],\n",
              "       [1.08717   , 1.0865681 , 1.08598336, 1.08220861, 1.07282161]])"
            ]
          },
          "metadata": {},
          "execution_count": 74
        }
      ]
    },
    {
      "cell_type": "code",
      "source": [
        "test_set.shape"
      ],
      "metadata": {
        "colab": {
          "base_uri": "https://localhost:8080/"
        },
        "id": "oRpYtWw7Dy87",
        "outputId": "0a9a9392-fe1e-4958-e20c-3da46e76dc4a"
      },
      "execution_count": 75,
      "outputs": [
        {
          "output_type": "execute_result",
          "data": {
            "text/plain": [
              "(100, 5)"
            ]
          },
          "metadata": {},
          "execution_count": 75
        }
      ]
    },
    {
      "cell_type": "code",
      "execution_count": 76,
      "metadata": {
        "colab": {
          "base_uri": "https://localhost:8080/"
        },
        "id": "kqryOlSVtxxg",
        "outputId": "0b5a16a3-6b13-4d7c-f9bb-8b9b22f4533c"
      },
      "outputs": [
        {
          "output_type": "execute_result",
          "data": {
            "text/plain": [
              "(array([[0.63047455, 0.62197557, 0.62347024, 0.64185953, 0.6731993 ],\n",
              "        [0.63305714, 0.62276824, 0.62341417, 0.6415614 , 0.67285169],\n",
              "        [0.63535277, 0.62371548, 0.6234601 , 0.64132112, 0.67253525],\n",
              "        ...,\n",
              "        [0.43025216, 0.37164194, 0.34570002, 0.33460915, 0.29138855],\n",
              "        [0.4243696 , 0.3753611 , 0.34746473, 0.33567339, 0.29232221],\n",
              "        [0.4253022 , 0.37881952, 0.34920077, 0.33673766, 0.29325782]]),\n",
              " array([[0.10728745, 0.        , 0.        , 0.        , 0.        ],\n",
              "        [0.12398785, 0.03661479, 0.01938604, 0.01268942, 0.01082398],\n",
              "        [0.        , 0.0595304 , 0.03377951, 0.02283429, 0.02034329],\n",
              "        [0.06022267, 0.08522372, 0.04966424, 0.03389214, 0.03034927],\n",
              "        [0.06376518, 0.10876182, 0.06504696, 0.04479655, 0.04028988],\n",
              "        [0.04757085, 0.12872438, 0.07927364, 0.05518551, 0.04997524],\n",
              "        [0.13157895, 0.15370494, 0.09581004, 0.06692255, 0.06037524],\n",
              "        [0.10121457, 0.17380548, 0.11066146, 0.07786556, 0.07037862],\n",
              "        [0.14271255, 0.1954096 , 0.12634701, 0.08935943, 0.08068309],\n",
              "        [0.12753036, 0.21370572, 0.14089919, 0.10034488, 0.09073845],\n",
              "        [0.18370445, 0.23488605, 0.15679821, 0.11215179, 0.10123606],\n",
              "        [0.22823887, 0.25771721, 0.17359392, 0.12454862, 0.11205915],\n",
              "        [0.20850202, 0.27674838, 0.18905726, 0.13633491, 0.12258401],\n",
              "        [0.22165992, 0.29505078, 0.20436334, 0.14813118, 0.13313117],\n",
              "        [0.54453441, 0.33820314, 0.23009054, 0.16566576, 0.1466904 ],\n",
              "        [0.6437247 , 0.38541539, 0.2581947 , 0.18468774, 0.16107228],\n",
              "        [0.65688259, 0.42921497, 0.28564588, 0.20357642, 0.17543808],\n",
              "        [0.68016194, 0.47076052, 0.31281519, 0.22252165, 0.18988568],\n",
              "        [0.58502024, 0.50051316, 0.33567136, 0.23933197, 0.20327103],\n",
              "        [0.61184211, 0.52964136, 0.35854678, 0.25630552, 0.21678213],\n",
              "        [0.36538462, 0.53569637, 0.37211227, 0.26838447, 0.2277795 ],\n",
              "        [0.53846154, 0.55542992, 0.39105378, 0.28342547, 0.24033832],\n",
              "        [0.56072874, 0.57511808, 0.41001258, 0.29858048, 0.25298715],\n",
              "        [0.74089069, 0.60776992, 0.43437775, 0.31676768, 0.26724938],\n",
              "        [0.70445344, 0.63431097, 0.45654362, 0.33392079, 0.28101794],\n",
              "        [0.50404858, 0.64181828, 0.47099941, 0.34702753, 0.29271481],\n",
              "        [0.47672065, 0.64635979, 0.48395546, 0.35936928, 0.30403147],\n",
              "        [0.46659919, 0.64963514, 0.49605794, 0.37127944, 0.31513781],\n",
              "        [0.5167004 , 0.65672505, 0.50939601, 0.38388042, 0.32661731],\n",
              "        [0.48481781, 0.66051377, 0.52112271, 0.39564217, 0.3376748 ],\n",
              "        [0.55364372, 0.6696104 , 0.53473892, 0.40844403, 0.3492867 ],\n",
              "        [0.48532389, 0.67221363, 0.54548906, 0.41972873, 0.36012351],\n",
              "        [0.61234818, 0.68503109, 0.56015361, 0.43313943, 0.37207877],\n",
              "        [0.30668016, 0.67145198, 0.56380906, 0.44063092, 0.38096418],\n",
              "        [0.33603239, 0.66158367, 0.56832311, 0.44851696, 0.39004453],\n",
              "        [0.37854251, 0.65615647, 0.57411123, 0.45703311, 0.39944493],\n",
              "        [0.29453441, 0.64432696, 0.57680473, 0.46382681, 0.40794078],\n",
              "        [0.75101215, 0.67122112, 0.59497452, 0.47892901, 0.4207589 ],\n",
              "        [0.69230769, 0.69071884, 0.61042789, 0.49264635, 0.43288275],\n",
              "        [0.37651822, 0.68235014, 0.61449574, 0.50025121, 0.44183735],\n",
              "        [0.3694332 , 0.67419491, 0.61816221, 0.50757444, 0.45063446],\n",
              "        [0.33502024, 0.66398201, 0.62051022, 0.51411615, 0.45901181],\n",
              "        [0.35475709, 0.65636735, 0.62343986, 0.52089337, 0.46749634],\n",
              "        [0.52226721, 0.6632746 , 0.63197259, 0.53063466, 0.47751358],\n",
              "        [0.44635628, 0.66327174, 0.63757948, 0.538779  , 0.4866983 ],\n",
              "        [0.47975709, 0.66602015, 0.64410663, 0.54737986, 0.49611409],\n",
              "        [0.55465587, 0.67467572, 0.65293449, 0.55719573, 0.50615925],\n",
              "        [0.58097166, 0.68467442, 0.66231445, 0.56730396, 0.51635852],\n",
              "        [0.57489879, 0.69322067, 0.67111927, 0.57709971, 0.52639767],\n",
              "        [0.55364372, 0.69920236, 0.67885326, 0.58630834, 0.53613173],\n",
              "        [0.43016194, 0.69444398, 0.6820689 , 0.59305071, 0.54457686],\n",
              "        [0.61892713, 0.70568612, 0.69160195, 0.60315097, 0.55476027],\n",
              "        [0.67763158, 0.72069268, 0.70276503, 0.61413702, 0.56540909],\n",
              "        [0.87651822, 0.75065102, 0.72027937, 0.62858415, 0.57787199],\n",
              "        [0.8638664 , 0.77671414, 0.736675  , 0.64251118, 0.59008875],\n",
              "        [0.96255061, 0.80842302, 0.75579626, 0.6579877 , 0.60313663],\n",
              "        [0.69534413, 0.81510398, 0.76504654, 0.66821549, 0.61347509],\n",
              "        [0.71356275, 0.8226492 , 0.77455596, 0.67857772, 0.62388656],\n",
              "        [0.76012146, 0.83331057, 0.78528175, 0.68959591, 0.6346439 ],\n",
              "        [0.80668016, 0.84679129, 0.79717621, 0.70125707, 0.64574369],\n",
              "        [0.79251012, 0.85782105, 0.80812052, 0.71242523, 0.65659623],\n",
              "        [0.70546559, 0.86063107, 0.81566437, 0.72176225, 0.66650047],\n",
              "        [0.73076923, 0.86525757, 0.82377612, 0.73138241, 0.67655043],\n",
              "        [0.81933198, 0.87673777, 0.83459287, 0.74245012, 0.68735537],\n",
              "        [0.84311741, 0.88908367, 0.84579735, 0.75373861, 0.69828243],\n",
              "        [0.86842105, 0.90233786, 0.85742617, 0.76527158, 0.70934504],\n",
              "        [0.89068826, 0.91616375, 0.86935906, 0.77698803, 0.72051254],\n",
              "        [0.80870445, 0.92192043, 0.87802547, 0.78695609, 0.73077745],\n",
              "        [0.76214575, 0.92329412, 0.88476273, 0.79586562, 0.74049075],\n",
              "        [0.89878543, 0.93579108, 0.8959    , 0.80712601, 0.75142651],\n",
              "        [0.97975709, 0.95376696, 0.90936448, 0.81966108, 0.76303515],\n",
              "        [1.        , 0.97169813, 0.92299194, 0.83232234, 0.77472371],\n",
              "        [0.99797571, 0.98775484, 0.9360159 , 0.84469545, 0.78627642],\n",
              "        [0.88157895, 0.99269551, 0.94455589, 0.85467066, 0.79659049],\n",
              "        [0.9159919 , 1.        , 0.95393567, 0.86508485, 0.80713415],\n",
              "        [0.72469636, 0.99085308, 0.95641772, 0.8717546 , 0.81572615],\n",
              "        [0.8582996 , 0.99358131, 0.963363  , 0.88076342, 0.82552245],\n",
              "        [0.85020243, 0.9953828 , 0.96975951, 0.88944407, 0.83514311],\n",
              "        [0.77024291, 0.99042698, 0.97317576, 0.8964739 , 0.84389611],\n",
              "        [0.8208502 , 0.99011133, 0.97818552, 0.90430055, 0.85305058],\n",
              "        [0.71153846, 0.98082246, 0.97926745, 0.90995039, 0.86105867],\n",
              "        [0.73380567, 0.97425225, 0.98106705, 0.91590021, 0.86920205],\n",
              "        [0.74038462, 0.96884964, 0.98302064, 0.92185389, 0.87732791],\n",
              "        [0.76923077, 0.96633742, 0.9858823 , 0.92822322, 0.88565139],\n",
              "        [0.74696356, 0.96223046, 0.98787163, 0.93405457, 0.89367709],\n",
              "        [0.91295547, 0.9721863 , 0.99544911, 0.94284063, 0.90322541],\n",
              "        [0.83299595, 0.97460823, 1.        , 0.94997378, 0.91190679],\n",
              "        [0.68927126, 0.96496184, 0.99946637, 0.95430735, 0.91911428],\n",
              "        [0.65840081, 0.95369156, 0.9978999 , 0.95798412, 0.92595203],\n",
              "        [0.68927126, 0.94603724, 0.99744862, 0.96215906, 0.93301977],\n",
              "        [0.57287449, 0.92952507, 0.99304183, 0.96409845, 0.9388935 ],\n",
              "        [0.54807692, 0.91254307, 0.98796138, 0.96554079, 0.94446939],\n",
              "        [0.6548583 , 0.90597329, 0.98672516, 0.96892959, 0.95102065],\n",
              "        [0.72773279, 0.90603138, 0.988025  , 0.97359918, 0.95821025],\n",
              "        [0.71659919, 0.90516694, 0.98889382, 0.97797037, 0.96522084],\n",
              "        [0.68623482, 0.90188392, 0.98869207, 0.98169338, 0.97186853],\n",
              "        [0.75961538, 0.90495744, 0.99100309, 0.98669992, 0.97915848],\n",
              "        [0.77074899, 0.90865524, 0.99360353, 0.99181325, 0.98648338],\n",
              "        [0.68623482, 0.90504   , 0.99321709, 0.99526215, 0.99291951],\n",
              "        [0.75961538, 0.90781294, 0.99535066, 1.        , 1.        ]]))"
            ]
          },
          "metadata": {},
          "execution_count": 76
        }
      ],
      "source": [
        "# Feature scaling\n",
        "\n",
        "from sklearn.preprocessing import MinMaxScaler\n",
        "\n",
        "sc = MinMaxScaler()\n",
        "training_set_scaled, test_set_scaled = sc.fit_transform(training_set), sc.fit_transform(test_set)\n",
        "training_set_scaled, test_set_scaled"
      ]
    },
    {
      "cell_type": "code",
      "source": [
        "test_set_scaled.shape"
      ],
      "metadata": {
        "colab": {
          "base_uri": "https://localhost:8080/"
        },
        "id": "ABHIiSfgRAoU",
        "outputId": "eb1d19fe-e94c-45fb-ffb5-9d0942eb1d33"
      },
      "execution_count": 77,
      "outputs": [
        {
          "output_type": "execute_result",
          "data": {
            "text/plain": [
              "(100, 5)"
            ]
          },
          "metadata": {},
          "execution_count": 77
        }
      ]
    },
    {
      "cell_type": "code",
      "source": [
        "eurusd_h4.shape[1]"
      ],
      "metadata": {
        "colab": {
          "base_uri": "https://localhost:8080/"
        },
        "id": "Lzwbdu4RFL5r",
        "outputId": "c50b7f6a-544a-4d96-83d9-19aa5b1f53d7"
      },
      "execution_count": 78,
      "outputs": [
        {
          "output_type": "execute_result",
          "data": {
            "text/plain": [
              "5"
            ]
          },
          "metadata": {},
          "execution_count": 78
        }
      ]
    },
    {
      "cell_type": "code",
      "execution_count": 81,
      "metadata": {
        "id": "xDUJ4HUHt5-E",
        "colab": {
          "base_uri": "https://localhost:8080/"
        },
        "outputId": "6fc3f1da-fb07-421a-9a14-1f5efa4d7e7d"
      },
      "outputs": [
        {
          "output_type": "stream",
          "name": "stdout",
          "text": [
            "X_train shape == (5946, 60, 5).\n",
            "y_train shape == (5946, 1).\n"
          ]
        }
      ],
      "source": [
        "# Membuat struktur data dengan 60 timestep dan 1 output\n",
        "\n",
        "X_train = []\n",
        "y_train = []\n",
        "\n",
        "n_future = 6   # Number of days we want top predict into the future\n",
        "n_past = 60     # Number of past days we want to use to predict the future\n",
        "\n",
        "for i in range(n_past, len(training_set_scaled) - n_past):\n",
        "    X_train.append(training_set_scaled[i - n_past:i, 0:eurusd_h4.shape[1]])\n",
        "    y_train.append(training_set_scaled[i + n_future - 1:i + n_future, 0])\n",
        "\n",
        "X_train, y_train = np.array(X_train), np.array(y_train)\n",
        "\n",
        "print('X_train shape == {}.'.format(X_train.shape))\n",
        "print('y_train shape == {}.'.format(y_train.shape))"
      ]
    },
    {
      "cell_type": "code",
      "source": [
        "X_test = []\n",
        "y_test = []\n",
        "\n",
        "n_future = 6   \n",
        "n_past = 60    \n",
        "\n",
        "for i in range(n_past, len(test_set_scaled) - n_future +1):\n",
        "    X_test.append(test_set_scaled[i - n_past:i, 0:eurusd_h4.shape[1]])\n",
        "    y_test.append(test_set_scaled[i + n_future - 1:i + n_future, 0])\n",
        "\n",
        "X_test, y_test = np.array(X_test), np.array(y_test)\n",
        "\n",
        "print('X_test shape == {}.'.format(X_test.shape))\n",
        "print('y_test shape == {}.'.format(y_test.shape))"
      ],
      "metadata": {
        "colab": {
          "base_uri": "https://localhost:8080/"
        },
        "id": "cwpFIQwPR6OU",
        "outputId": "a3921ab1-0126-427b-812a-a7b247f3b082"
      },
      "execution_count": 101,
      "outputs": [
        {
          "output_type": "stream",
          "name": "stdout",
          "text": [
            "X_test shape == (35, 60, 5).\n",
            "y_test shape == (35, 1).\n"
          ]
        }
      ]
    },
    {
      "cell_type": "code",
      "source": [
        "X_train.shape[2]"
      ],
      "metadata": {
        "colab": {
          "base_uri": "https://localhost:8080/"
        },
        "id": "K0n_8UrBSA64",
        "outputId": "65b8a2f5-2b01-4d85-e69f-84935ebc262a"
      },
      "execution_count": 102,
      "outputs": [
        {
          "output_type": "execute_result",
          "data": {
            "text/plain": [
              "5"
            ]
          },
          "metadata": {},
          "execution_count": 102
        }
      ]
    },
    {
      "cell_type": "code",
      "execution_count": 103,
      "metadata": {
        "id": "yW31yOS3uMK6"
      },
      "outputs": [],
      "source": [
        "# Membangun dan melatih model\n",
        "\n",
        "from keras.models import Sequential\n",
        "from keras.layers import Dense\n",
        "from keras.layers import LSTM, GRU, Bidirectional\n",
        "from keras.layers import Dropout\n",
        "from tensorflow.keras.callbacks import ModelCheckpoint"
      ]
    },
    {
      "cell_type": "code",
      "execution_count": 104,
      "metadata": {
        "id": "z_Rso6BpuYOO"
      },
      "outputs": [],
      "source": [
        "model = Sequential()"
      ]
    },
    {
      "cell_type": "code",
      "execution_count": 105,
      "metadata": {
        "id": "XA1vwx8Lujmr"
      },
      "outputs": [],
      "source": [
        "# RNN arsitektur\n",
        "\n",
        "model.add(LSTM(units=500, return_sequences=True, input_shape=(X_train.shape[1], X_train.shape[2])))\n",
        "model.add(Dropout(0.2))\n",
        "model.add(LSTM(units=200, return_sequences=True))\n",
        "model.add(Dropout(0.2))\n",
        "model.add(LSTM(units=100))\n",
        "model.add(Dense(units=1))"
      ]
    },
    {
      "cell_type": "code",
      "source": [
        "model.summary()"
      ],
      "metadata": {
        "colab": {
          "base_uri": "https://localhost:8080/"
        },
        "id": "CXy6UylpGTsC",
        "outputId": "8f32e29c-9608-48fa-fc8a-3a061eae6722"
      },
      "execution_count": 106,
      "outputs": [
        {
          "output_type": "stream",
          "name": "stdout",
          "text": [
            "Model: \"sequential_3\"\n",
            "_________________________________________________________________\n",
            " Layer (type)                Output Shape              Param #   \n",
            "=================================================================\n",
            " lstm_6 (LSTM)               (None, 60, 500)           1012000   \n",
            "                                                                 \n",
            " dropout_6 (Dropout)         (None, 60, 500)           0         \n",
            "                                                                 \n",
            " lstm_7 (LSTM)               (None, 60, 200)           560800    \n",
            "                                                                 \n",
            " dropout_7 (Dropout)         (None, 60, 200)           0         \n",
            "                                                                 \n",
            " lstm_8 (LSTM)               (None, 100)               120400    \n",
            "                                                                 \n",
            " dense_3 (Dense)             (None, 1)                 101       \n",
            "                                                                 \n",
            "=================================================================\n",
            "Total params: 1,693,301\n",
            "Trainable params: 1,693,301\n",
            "Non-trainable params: 0\n",
            "_________________________________________________________________\n"
          ]
        }
      ]
    },
    {
      "cell_type": "code",
      "execution_count": 107,
      "metadata": {
        "id": "3Ohx0MuHz-Pz"
      },
      "outputs": [],
      "source": [
        "# Compiling RNN\n",
        "\n",
        "model.compile(optimizer='adam', loss='mean_squared_error')"
      ]
    },
    {
      "cell_type": "code",
      "source": [
        "# Menerapkan callbacks\n",
        "\n",
        "#checkpointer = ModelCheckpoint(filepath = 'weights_best.hdf5',  \n",
        "                               #save_best_only = True)"
      ],
      "metadata": {
        "id": "0x79tgGVxd2g"
      },
      "execution_count": null,
      "outputs": []
    },
    {
      "cell_type": "code",
      "execution_count": 108,
      "metadata": {
        "colab": {
          "base_uri": "https://localhost:8080/"
        },
        "id": "TxPBtxMB1JMJ",
        "outputId": "f29f235a-2ecd-4559-b2ef-a2607b337375"
      },
      "outputs": [
        {
          "output_type": "stream",
          "name": "stdout",
          "text": [
            "Epoch 1/30\n",
            "142/142 [==============================] - 88s 592ms/step - loss: 0.0057 - val_loss: 0.0263\n",
            "Epoch 2/30\n",
            "142/142 [==============================] - 83s 583ms/step - loss: 0.0012 - val_loss: 0.0248\n",
            "Epoch 3/30\n",
            "142/142 [==============================] - 84s 590ms/step - loss: 0.0013 - val_loss: 0.0189\n",
            "Epoch 4/30\n",
            "142/142 [==============================] - 83s 582ms/step - loss: 9.2756e-04 - val_loss: 0.0243\n",
            "Epoch 5/30\n",
            "142/142 [==============================] - 83s 582ms/step - loss: 8.1489e-04 - val_loss: 0.0183\n",
            "Epoch 6/30\n",
            "142/142 [==============================] - 83s 588ms/step - loss: 8.3957e-04 - val_loss: 0.0241\n",
            "Epoch 7/30\n",
            "142/142 [==============================] - 83s 585ms/step - loss: 7.3205e-04 - val_loss: 0.0148\n",
            "Epoch 8/30\n",
            "142/142 [==============================] - 84s 592ms/step - loss: 7.2166e-04 - val_loss: 0.0192\n",
            "Epoch 9/30\n",
            "142/142 [==============================] - 83s 584ms/step - loss: 7.7703e-04 - val_loss: 0.0161\n",
            "Epoch 10/30\n",
            "142/142 [==============================] - 83s 586ms/step - loss: 7.3277e-04 - val_loss: 0.0180\n",
            "Epoch 11/30\n",
            "142/142 [==============================] - 83s 588ms/step - loss: 6.8899e-04 - val_loss: 0.0179\n",
            "Epoch 12/30\n",
            "142/142 [==============================] - 83s 585ms/step - loss: 7.4450e-04 - val_loss: 0.0203\n",
            "Epoch 13/30\n",
            "142/142 [==============================] - 83s 584ms/step - loss: 5.8700e-04 - val_loss: 0.0182\n",
            "Epoch 14/30\n",
            "142/142 [==============================] - 84s 592ms/step - loss: 6.9109e-04 - val_loss: 0.0205\n",
            "Epoch 15/30\n",
            "142/142 [==============================] - 83s 582ms/step - loss: 6.2537e-04 - val_loss: 0.0155\n",
            "Epoch 16/30\n",
            "142/142 [==============================] - 83s 586ms/step - loss: 5.7056e-04 - val_loss: 0.0163\n",
            "Epoch 17/30\n",
            "142/142 [==============================] - 84s 591ms/step - loss: 5.7815e-04 - val_loss: 0.0156\n",
            "Epoch 18/30\n",
            "142/142 [==============================] - 83s 584ms/step - loss: 6.0782e-04 - val_loss: 0.0150\n",
            "Epoch 19/30\n",
            "142/142 [==============================] - 83s 582ms/step - loss: 5.4338e-04 - val_loss: 0.0180\n",
            "Epoch 20/30\n",
            "142/142 [==============================] - 83s 585ms/step - loss: 5.5778e-04 - val_loss: 0.0150\n",
            "Epoch 21/30\n",
            "142/142 [==============================] - 83s 584ms/step - loss: 5.5912e-04 - val_loss: 0.0137\n",
            "Epoch 22/30\n",
            "142/142 [==============================] - 83s 583ms/step - loss: 5.3929e-04 - val_loss: 0.0158\n",
            "Epoch 23/30\n",
            "142/142 [==============================] - 84s 590ms/step - loss: 5.2646e-04 - val_loss: 0.0148\n",
            "Epoch 24/30\n",
            "142/142 [==============================] - 83s 584ms/step - loss: 5.4303e-04 - val_loss: 0.0164\n",
            "Epoch 25/30\n",
            "142/142 [==============================] - 83s 582ms/step - loss: 5.1648e-04 - val_loss: 0.0170\n",
            "Epoch 26/30\n",
            "142/142 [==============================] - 83s 586ms/step - loss: 5.0484e-04 - val_loss: 0.0142\n",
            "Epoch 27/30\n",
            "142/142 [==============================] - 83s 582ms/step - loss: 5.2590e-04 - val_loss: 0.0157\n",
            "Epoch 28/30\n",
            "142/142 [==============================] - 83s 583ms/step - loss: 5.3509e-04 - val_loss: 0.0153\n",
            "Epoch 29/30\n",
            "142/142 [==============================] - 83s 588ms/step - loss: 4.8786e-04 - val_loss: 0.0170\n",
            "Epoch 30/30\n",
            "142/142 [==============================] - 83s 585ms/step - loss: 4.7942e-04 - val_loss: 0.0149\n"
          ]
        },
        {
          "output_type": "execute_result",
          "data": {
            "text/plain": [
              "<keras.callbacks.History at 0x7f84dd833760>"
            ]
          },
          "metadata": {},
          "execution_count": 108
        }
      ],
      "source": [
        "# Melatih RNN pada training set\n",
        "\n",
        "model.fit(X_train, y_train, validation_data=[X_test, y_test], epochs=30, batch_size=42)"
      ]
    },
    {
      "cell_type": "code",
      "source": [
        "predictions_test = model.predict(X_test[-100:])"
      ],
      "metadata": {
        "colab": {
          "base_uri": "https://localhost:8080/"
        },
        "id": "56NQzfFZPdIn",
        "outputId": "82386e2e-99a8-437c-f8f2-09b797f20289"
      },
      "execution_count": 109,
      "outputs": [
        {
          "output_type": "stream",
          "name": "stdout",
          "text": [
            "2/2 [==============================] - 1s 33ms/step\n"
          ]
        }
      ]
    },
    {
      "cell_type": "code",
      "source": [
        "predictions_test"
      ],
      "metadata": {
        "colab": {
          "base_uri": "https://localhost:8080/"
        },
        "id": "9whXStHmbA-e",
        "outputId": "bcfc3996-4ac3-4abd-d65c-5e600bf1d616"
      },
      "execution_count": 110,
      "outputs": [
        {
          "output_type": "execute_result",
          "data": {
            "text/plain": [
              "array([[0.79058427],\n",
              "       [0.8097893 ],\n",
              "       [0.79868895],\n",
              "       [0.7819142 ],\n",
              "       [0.7940504 ],\n",
              "       [0.8225814 ],\n",
              "       [0.853306  ],\n",
              "       [0.8791201 ],\n",
              "       [0.87245166],\n",
              "       [0.84371513],\n",
              "       [0.85449266],\n",
              "       [0.90042037],\n",
              "       [0.94555175],\n",
              "       [0.9721747 ],\n",
              "       [0.95416844],\n",
              "       [0.93815064],\n",
              "       [0.8767588 ],\n",
              "       [0.8558423 ],\n",
              "       [0.8572236 ],\n",
              "       [0.8425612 ],\n",
              "       [0.8386346 ],\n",
              "       [0.8078639 ],\n",
              "       [0.7821675 ],\n",
              "       [0.769514  ],\n",
              "       [0.775056  ],\n",
              "       [0.77811164],\n",
              "       [0.8266526 ],\n",
              "       [0.84965175],\n",
              "       [0.8141192 ],\n",
              "       [0.75910926],\n",
              "       [0.7234598 ],\n",
              "       [0.67457855],\n",
              "       [0.62530243],\n",
              "       [0.6246957 ],\n",
              "       [0.6705598 ]], dtype=float32)"
            ]
          },
          "metadata": {},
          "execution_count": 110
        }
      ]
    },
    {
      "cell_type": "code",
      "source": [
        "prediction_copies = np.repeat(predictions_test, training_set.shape[1], axis=-1)\n",
        "y_test_pred = sc.inverse_transform(prediction_copies)[:,0]\n",
        "y_test_pred = y_test_pred.reshape(-1, 1)\n",
        "y_test_pred"
      ],
      "metadata": {
        "colab": {
          "base_uri": "https://localhost:8080/"
        },
        "id": "Mg7iHpGeU8qG",
        "outputId": "06c1c0a3-8fa6-4177-886d-c44a740d23a2"
      },
      "execution_count": 111,
      "outputs": [
        {
          "output_type": "execute_result",
          "data": {
            "text/plain": [
              "array([[1.0877819],\n",
              "       [1.0881615],\n",
              "       [1.087942 ],\n",
              "       [1.0876106],\n",
              "       [1.0878505],\n",
              "       [1.0884142],\n",
              "       [1.0890213],\n",
              "       [1.0895314],\n",
              "       [1.0893997],\n",
              "       [1.0888318],\n",
              "       [1.0890448],\n",
              "       [1.0899523],\n",
              "       [1.0908442],\n",
              "       [1.0913702],\n",
              "       [1.0910144],\n",
              "       [1.0906979],\n",
              "       [1.0894848],\n",
              "       [1.0890715],\n",
              "       [1.0890987],\n",
              "       [1.088809 ],\n",
              "       [1.0887314],\n",
              "       [1.0881234],\n",
              "       [1.0876156],\n",
              "       [1.0873655],\n",
              "       [1.0874751],\n",
              "       [1.0875355],\n",
              "       [1.0884947],\n",
              "       [1.0889491],\n",
              "       [1.088247 ],\n",
              "       [1.08716  ],\n",
              "       [1.0864556],\n",
              "       [1.0854897],\n",
              "       [1.0845159],\n",
              "       [1.084504 ],\n",
              "       [1.0854102]], dtype=float32)"
            ]
          },
          "metadata": {},
          "execution_count": 111
        }
      ]
    },
    {
      "cell_type": "code",
      "source": [
        "y_test_pred.shape"
      ],
      "metadata": {
        "colab": {
          "base_uri": "https://localhost:8080/"
        },
        "id": "-tB2MbIhYSyX",
        "outputId": "304b578b-6a55-4998-fcd9-a4f1fa0f3115"
      },
      "execution_count": 112,
      "outputs": [
        {
          "output_type": "execute_result",
          "data": {
            "text/plain": [
              "(35, 1)"
            ]
          },
          "metadata": {},
          "execution_count": 112
        }
      ]
    },
    {
      "cell_type": "code",
      "execution_count": 113,
      "metadata": {
        "id": "2PUSOjmO3SCp",
        "colab": {
          "base_uri": "https://localhost:8080/"
        },
        "outputId": "a3f2d4b9-0a67-485c-991a-921b1827e6be"
      },
      "outputs": [
        {
          "output_type": "execute_result",
          "data": {
            "text/plain": [
              "array([[1.08932],\n",
              "       [1.08976],\n",
              "       [1.08814],\n",
              "       [1.08722],\n",
              "       [1.08992],\n",
              "       [1.09152],\n",
              "       [1.09192],\n",
              "       [1.09188],\n",
              "       [1.08958],\n",
              "       [1.09026],\n",
              "       [1.08648],\n",
              "       [1.08912],\n",
              "       [1.08896],\n",
              "       [1.08738],\n",
              "       [1.08838],\n",
              "       [1.08622],\n",
              "       [1.08666],\n",
              "       [1.08679],\n",
              "       [1.08736],\n",
              "       [1.08692],\n",
              "       [1.0902 ],\n",
              "       [1.08862],\n",
              "       [1.08578],\n",
              "       [1.08517],\n",
              "       [1.08578],\n",
              "       [1.08348],\n",
              "       [1.08299],\n",
              "       [1.0851 ],\n",
              "       [1.08654],\n",
              "       [1.08632],\n",
              "       [1.08572],\n",
              "       [1.08717],\n",
              "       [1.08739],\n",
              "       [1.08572],\n",
              "       [1.08717]])"
            ]
          },
          "metadata": {},
          "execution_count": 113
        }
      ],
      "source": [
        "y_test_actual = eurusd_h4['close'].iloc[6131:].values\n",
        "y_test_actual = y_test_actual.reshape(-1, 1)\n",
        "y_test_actual"
      ]
    },
    {
      "cell_type": "code",
      "execution_count": 114,
      "metadata": {
        "colab": {
          "base_uri": "https://localhost:8080/",
          "height": 513
        },
        "id": "m9N3yI_rUm2n",
        "outputId": "978d0954-3297-4e6c-d495-d242aa01a267"
      },
      "outputs": [
        {
          "output_type": "display_data",
          "data": {
            "text/plain": [
              "<Figure size 2160x576 with 1 Axes>"
            ],
            "image/png": "[encoded data removed]"
          },
          "metadata": {
            "needs_background": "light"
          }
        }
      ],
      "source": [
        "plt.figure(figsize = (30, 8))\n",
        "plt.plot(y_test_actual, color = 'red', label = 'Actual EURUSD Price')\n",
        "plt.plot(y_test_pred, color = 'blue', label = 'Prediction EURUSD Price')\n",
        "plt.title('EURUSD Price Prediction')\n",
        "plt.xlabel('Time')\n",
        "plt.ylabel('EURUSD Price')\n",
        "plt.legend()\n",
        "plt.show()"
      ]
    },
    {
      "cell_type": "code",
      "execution_count": 115,
      "metadata": {
        "colab": {
          "base_uri": "https://localhost:8080/"
        },
        "id": "ns3jqbd3Kzj5",
        "outputId": "5533e7ab-a335-4eba-914c-ca7d4bd10a1d"
      },
      "outputs": [
        {
          "output_type": "execute_result",
          "data": {
            "text/plain": [
              "(0.045603056466295054, 0.0024106451664009276, 0.04373589715080821)"
            ]
          },
          "metadata": {},
          "execution_count": 115
        }
      ],
      "source": [
        "import math\n",
        "from sklearn.metrics import mean_squared_error, mean_absolute_error, mean_absolute_percentage_error\n",
        "mae, rmse, mape = math.sqrt(mean_absolute_error(y_test_actual, y_test_pred)), math.sqrt(mean_squared_error(y_test_actual, y_test_pred)), math.sqrt(mean_absolute_percentage_error(y_test_actual, y_test_pred))\n",
        "mae, rmse, mape"
      ]
    }
  ],
  "metadata": {
    "colab": {
      "provenance": []
    },
    "kernelspec": {
      "display_name": "Python 3",
      "name": "python3"
    },
    "language_info": {
      "name": "python"
    }
  },
  "nbformat": 4,
  "nbformat_minor": 0
}